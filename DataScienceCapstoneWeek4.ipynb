{
    "cells": [
        {
            "cell_type": "markdown",
            "metadata": {
                "collapsed": true
            },
            "source": "# The Battle of the Neighborhoods"
        },
        {
            "cell_type": "markdown",
            "metadata": {},
            "source": "## 1) Introduction\n\nEver wonder just how much information can be gleaned from a particular location without ever having actually been there? In this case, we are scouting out potential vacation destinations for after COVID restrictions are lifted. For this excercise, we plan on using convex location data about the neighborhoods of 2 cities, Toronto and New York City, in order to find potential points of interest to visit on our tourist travels. Additionally, we will be searching for highly rated restaurants that serve local delacicies such as poutine in Toronto or pizza in New York by using the Foursquare API."
        },
        {
            "cell_type": "markdown",
            "metadata": {},
            "source": "## 2) Data\n\nUsing the Foursquare API for our points of interest as previously mentioned, we also needed data on the surrounding neighborhoods of Toronto and New York City, as provided below:\n\nNew York City Neighborhoods: https://ibm.box.com/shared/static/fbpwbovar7lf8p5sgddm06cgipa2rxpe.json\nToronto Neighborhoods: https://en.wikipedia.org/wiki/List_of_postal_codes_of_Canada:_M\n\nThis data is then processed using our K-Means algorithms in order to plot similarities between the two neighborhoods. This \n"
        },
        {
            "cell_type": "code",
            "execution_count": null,
            "metadata": {},
            "outputs": [],
            "source": ""
        }
    ],
    "metadata": {
        "kernelspec": {
            "display_name": "Python 3.7",
            "language": "python",
            "name": "python3"
        },
        "language_info": {
            "codemirror_mode": {
                "name": "ipython",
                "version": 3
            },
            "file_extension": ".py",
            "mimetype": "text/x-python",
            "name": "python",
            "nbconvert_exporter": "python",
            "pygments_lexer": "ipython3",
            "version": "3.7.9"
        }
    },
    "nbformat": 4,
    "nbformat_minor": 1
}